{
 "cells": [
  {
   "cell_type": "code",
   "execution_count": 64,
   "id": "dafe46d5-ad56-4046-bd9b-e2e0d70829bf",
   "metadata": {
    "jupyter": {
     "source_hidden": true
    },
    "tags": []
   },
   "outputs": [
    {
     "name": "stdout",
     "output_type": "stream",
     "text": [
      "<class 'pandas.core.frame.DataFrame'>\n",
      "             categorical_label;;ID;;;;proyecto;;valor;        Unnamed: 1  \\\n",
      "0    0;225;TMSA-CD-1144-2021;Contratos y convenios ...               NaN   \n",
      "1    0;227;SED_CDM_026_2021;Régimen Especial;Convoc...               NaN   \n",
      "2    0;228;ITI - 030 -2021;Régimen Especial;Convoca...  contratista debe   \n",
      "3    0;230;Seleccionabreviada_35_2018;Selección Abr...  QUE CONFORMAN LA   \n",
      "4    0;231;CMZOA-23-2021;Contratación Mínima Cuantí...               NaN   \n",
      "..                                                 ...               ...   \n",
      "235  9;18;58-2021;Régimen Especial;Convocado;BOGOTÁ...               NaN   \n",
      "236  9;24;35;Régimen Especial;Convocado;BOGOTÁ D.C....               NaN   \n",
      "237  9;5;CE-08-21;Régimen Especial;Convocado;BOGOTÁ...               NaN   \n",
      "238  9;7;CE-015-21;Régimen Especial;Convocado;BOGOT...               NaN   \n",
      "239  9;9;CE-016-21;Régimen Especial;Convocado;BOGOT...               NaN   \n",
      "\n",
      "             Unnamed: 2                        Unnamed: 3  \\\n",
      "0                   NaN                               NaN   \n",
      "1                   NaN                               NaN   \n",
      "2    garantizar que los  espacios intervenidos queden sin   \n",
      "3    JURISDICCIÓN DE LA  CORPORACIÓN AUTÓNOMA REGIONAL DE   \n",
      "4                   NaN                               NaN   \n",
      "..                  ...                               ...   \n",
      "235                 NaN                               NaN   \n",
      "236                 NaN                               NaN   \n",
      "237                 NaN                               NaN   \n",
      "238                 NaN                               NaN   \n",
      "239                 NaN                               NaN   \n",
      "\n",
      "                           Unnamed: 4 Unnamed: 5 Unnamed: 6  \\\n",
      "0                                 NaN        NaN        NaN   \n",
      "1                                 NaN        NaN        NaN   \n",
      "2    filtraciones, ni goteras.;Bogotá     D.C. :     Bogotá   \n",
      "3    CUNDINAMARCA – CAR;Bogotá D.C. :     Bogotá     D.C.;$   \n",
      "4                                 NaN        NaN        NaN   \n",
      "..                                ...        ...        ...   \n",
      "235                               NaN        NaN        NaN   \n",
      "236                               NaN        NaN        NaN   \n",
      "237                               NaN        NaN        NaN   \n",
      "238                               NaN        NaN        NaN   \n",
      "239                               NaN        NaN        NaN   \n",
      "\n",
      "                         Unnamed: 7  \n",
      "0                               NaN  \n",
      "1                               NaN  \n",
      "2    D.C.;$ 17.556.000,00;12-nov-21  \n",
      "3         389.997.387,00;12/11/2021  \n",
      "4                               NaN  \n",
      "..                              ...  \n",
      "235                             NaN  \n",
      "236                             NaN  \n",
      "237                             NaN  \n",
      "238                             NaN  \n",
      "239                             NaN  \n",
      "\n",
      "[240 rows x 8 columns]\n"
     ]
    },
    {
     "ename": "KeyError",
     "evalue": "0",
     "output_type": "error",
     "traceback": [
      "\u001b[1;31m---------------------------------------------------------------------------\u001b[0m",
      "\u001b[1;31mKeyError\u001b[0m                                  Traceback (most recent call last)",
      "\u001b[1;32m~\\Anaconda3\\lib\\site-packages\\pandas\\core\\indexes\\base.py\u001b[0m in \u001b[0;36mget_loc\u001b[1;34m(self, key, method, tolerance)\u001b[0m\n\u001b[0;32m   3079\u001b[0m             \u001b[1;32mtry\u001b[0m\u001b[1;33m:\u001b[0m\u001b[1;33m\u001b[0m\u001b[1;33m\u001b[0m\u001b[0m\n\u001b[1;32m-> 3080\u001b[1;33m                 \u001b[1;32mreturn\u001b[0m \u001b[0mself\u001b[0m\u001b[1;33m.\u001b[0m\u001b[0m_engine\u001b[0m\u001b[1;33m.\u001b[0m\u001b[0mget_loc\u001b[0m\u001b[1;33m(\u001b[0m\u001b[0mcasted_key\u001b[0m\u001b[1;33m)\u001b[0m\u001b[1;33m\u001b[0m\u001b[1;33m\u001b[0m\u001b[0m\n\u001b[0m\u001b[0;32m   3081\u001b[0m             \u001b[1;32mexcept\u001b[0m \u001b[0mKeyError\u001b[0m \u001b[1;32mas\u001b[0m \u001b[0merr\u001b[0m\u001b[1;33m:\u001b[0m\u001b[1;33m\u001b[0m\u001b[1;33m\u001b[0m\u001b[0m\n",
      "\u001b[1;32mpandas\\_libs\\index.pyx\u001b[0m in \u001b[0;36mpandas._libs.index.IndexEngine.get_loc\u001b[1;34m()\u001b[0m\n",
      "\u001b[1;32mpandas\\_libs\\index.pyx\u001b[0m in \u001b[0;36mpandas._libs.index.IndexEngine.get_loc\u001b[1;34m()\u001b[0m\n",
      "\u001b[1;32mpandas\\_libs\\hashtable_class_helper.pxi\u001b[0m in \u001b[0;36mpandas._libs.hashtable.PyObjectHashTable.get_item\u001b[1;34m()\u001b[0m\n",
      "\u001b[1;32mpandas\\_libs\\hashtable_class_helper.pxi\u001b[0m in \u001b[0;36mpandas._libs.hashtable.PyObjectHashTable.get_item\u001b[1;34m()\u001b[0m\n",
      "\u001b[1;31mKeyError\u001b[0m: 0",
      "\nThe above exception was the direct cause of the following exception:\n",
      "\u001b[1;31mKeyError\u001b[0m                                  Traceback (most recent call last)",
      "\u001b[1;32m<ipython-input-64-00c6a91233e0>\u001b[0m in \u001b[0;36m<module>\u001b[1;34m\u001b[0m\n\u001b[0;32m      9\u001b[0m \u001b[1;33m\u001b[0m\u001b[0m\n\u001b[0;32m     10\u001b[0m \u001b[1;31m#category_labels = list(df['categorical_label'].value_counts().index)\u001b[0m\u001b[1;33m\u001b[0m\u001b[1;33m\u001b[0m\u001b[1;33m\u001b[0m\u001b[0m\n\u001b[1;32m---> 11\u001b[1;33m \u001b[0mcategory_labels\u001b[0m \u001b[1;33m=\u001b[0m \u001b[0mlist\u001b[0m\u001b[1;33m(\u001b[0m\u001b[0mdf\u001b[0m\u001b[1;33m[\u001b[0m\u001b[1;36m0\u001b[0m\u001b[1;33m]\u001b[0m\u001b[1;33m)\u001b[0m\u001b[1;33m\u001b[0m\u001b[1;33m\u001b[0m\u001b[0m\n\u001b[0m\u001b[0;32m     12\u001b[0m \u001b[1;33m\u001b[0m\u001b[0m\n\u001b[0;32m     13\u001b[0m \u001b[1;31m#print(category_labels)\u001b[0m\u001b[1;33m\u001b[0m\u001b[1;33m\u001b[0m\u001b[1;33m\u001b[0m\u001b[0m\n",
      "\u001b[1;32m~\\Anaconda3\\lib\\site-packages\\pandas\\core\\frame.py\u001b[0m in \u001b[0;36m__getitem__\u001b[1;34m(self, key)\u001b[0m\n\u001b[0;32m   3022\u001b[0m             \u001b[1;32mif\u001b[0m \u001b[0mself\u001b[0m\u001b[1;33m.\u001b[0m\u001b[0mcolumns\u001b[0m\u001b[1;33m.\u001b[0m\u001b[0mnlevels\u001b[0m \u001b[1;33m>\u001b[0m \u001b[1;36m1\u001b[0m\u001b[1;33m:\u001b[0m\u001b[1;33m\u001b[0m\u001b[1;33m\u001b[0m\u001b[0m\n\u001b[0;32m   3023\u001b[0m                 \u001b[1;32mreturn\u001b[0m \u001b[0mself\u001b[0m\u001b[1;33m.\u001b[0m\u001b[0m_getitem_multilevel\u001b[0m\u001b[1;33m(\u001b[0m\u001b[0mkey\u001b[0m\u001b[1;33m)\u001b[0m\u001b[1;33m\u001b[0m\u001b[1;33m\u001b[0m\u001b[0m\n\u001b[1;32m-> 3024\u001b[1;33m             \u001b[0mindexer\u001b[0m \u001b[1;33m=\u001b[0m \u001b[0mself\u001b[0m\u001b[1;33m.\u001b[0m\u001b[0mcolumns\u001b[0m\u001b[1;33m.\u001b[0m\u001b[0mget_loc\u001b[0m\u001b[1;33m(\u001b[0m\u001b[0mkey\u001b[0m\u001b[1;33m)\u001b[0m\u001b[1;33m\u001b[0m\u001b[1;33m\u001b[0m\u001b[0m\n\u001b[0m\u001b[0;32m   3025\u001b[0m             \u001b[1;32mif\u001b[0m \u001b[0mis_integer\u001b[0m\u001b[1;33m(\u001b[0m\u001b[0mindexer\u001b[0m\u001b[1;33m)\u001b[0m\u001b[1;33m:\u001b[0m\u001b[1;33m\u001b[0m\u001b[1;33m\u001b[0m\u001b[0m\n\u001b[0;32m   3026\u001b[0m                 \u001b[0mindexer\u001b[0m \u001b[1;33m=\u001b[0m \u001b[1;33m[\u001b[0m\u001b[0mindexer\u001b[0m\u001b[1;33m]\u001b[0m\u001b[1;33m\u001b[0m\u001b[1;33m\u001b[0m\u001b[0m\n",
      "\u001b[1;32m~\\Anaconda3\\lib\\site-packages\\pandas\\core\\indexes\\base.py\u001b[0m in \u001b[0;36mget_loc\u001b[1;34m(self, key, method, tolerance)\u001b[0m\n\u001b[0;32m   3080\u001b[0m                 \u001b[1;32mreturn\u001b[0m \u001b[0mself\u001b[0m\u001b[1;33m.\u001b[0m\u001b[0m_engine\u001b[0m\u001b[1;33m.\u001b[0m\u001b[0mget_loc\u001b[0m\u001b[1;33m(\u001b[0m\u001b[0mcasted_key\u001b[0m\u001b[1;33m)\u001b[0m\u001b[1;33m\u001b[0m\u001b[1;33m\u001b[0m\u001b[0m\n\u001b[0;32m   3081\u001b[0m             \u001b[1;32mexcept\u001b[0m \u001b[0mKeyError\u001b[0m \u001b[1;32mas\u001b[0m \u001b[0merr\u001b[0m\u001b[1;33m:\u001b[0m\u001b[1;33m\u001b[0m\u001b[1;33m\u001b[0m\u001b[0m\n\u001b[1;32m-> 3082\u001b[1;33m                 \u001b[1;32mraise\u001b[0m \u001b[0mKeyError\u001b[0m\u001b[1;33m(\u001b[0m\u001b[0mkey\u001b[0m\u001b[1;33m)\u001b[0m \u001b[1;32mfrom\u001b[0m \u001b[0merr\u001b[0m\u001b[1;33m\u001b[0m\u001b[1;33m\u001b[0m\u001b[0m\n\u001b[0m\u001b[0;32m   3083\u001b[0m \u001b[1;33m\u001b[0m\u001b[0m\n\u001b[0;32m   3084\u001b[0m         \u001b[1;32mif\u001b[0m \u001b[0mtolerance\u001b[0m \u001b[1;32mis\u001b[0m \u001b[1;32mnot\u001b[0m \u001b[1;32mNone\u001b[0m\u001b[1;33m:\u001b[0m\u001b[1;33m\u001b[0m\u001b[1;33m\u001b[0m\u001b[0m\n",
      "\u001b[1;31mKeyError\u001b[0m: 0"
     ]
    }
   ],
   "source": [
    "import pandas as pd\n",
    "\n",
    "df=pd.read_fwf(r'C:/Users/cast800390/Documents/IA_AP_202110/proyecto/secop/secop_train.csv',skiprows=0)\n",
    "     #          ,names=['categorical_label','Z','ID','A','B','C','proyecto','D','valor'])\n",
    "print(type(data))\n",
    "print(df)\n",
    "\n",
    "\n",
    "\n",
    "#category_labels = list(df['categorical_label'].value_counts().index)\n",
    "category_labels = list(df[0])\n",
    "\n",
    "#print(category_labels)\n",
    "#df.columns.tolist()\n",
    "\n",
    "\n",
    "#df=pd.read_csv(r'C:/Users/cast800390/Documents/IA_AP_202110/proyecto/secop/secop_train.csv')\n",
    "\n"
   ]
  },
  {
   "cell_type": "code",
   "execution_count": 67,
   "id": "4c99e677-a155-4b14-89d5-25c849313638",
   "metadata": {},
   "outputs": [
    {
     "name": "stdout",
     "output_type": "stream",
     "text": [
      "     categorical_label  Unnamed: 1                          ID  \\\n",
      "0                    0         225           TMSA-CD-1144-2021   \n",
      "1                    0         227            SED_CDM_026_2021   \n",
      "2                    0         228             ITI - 030 -2021   \n",
      "3                    0         230  Seleccionabreviada_35_2018   \n",
      "4                    0         231               CMZOA-23-2021   \n",
      "..                 ...         ...                         ...   \n",
      "235                  9          18                     58-2021   \n",
      "236                  9          24                          35   \n",
      "237                  9           5                    CE-08-21   \n",
      "238                  9           7                   CE-015-21   \n",
      "239                  9           9                   CE-016-21   \n",
      "\n",
      "                                            Unnamed: 3 Unnamed: 4  \\\n",
      "0          Contratos y convenios con más de dos partes  Convocado   \n",
      "1                                     Régimen Especial  Convocado   \n",
      "2                                     Régimen Especial  Convocado   \n",
      "3    Selección Abreviada de Menor Cuantía (Ley 1150...  Convocado   \n",
      "4                          Contratación Mínima Cuantía  Convocado   \n",
      "..                                                 ...        ...   \n",
      "235                                   Régimen Especial  Convocado   \n",
      "236                                   Régimen Especial  Convocado   \n",
      "237                                   Régimen Especial  Convocado   \n",
      "238                                   Régimen Especial  Convocado   \n",
      "239                                   Régimen Especial  Convocado   \n",
      "\n",
      "                                            Unnamed: 5  \\\n",
      "0                           BOGOTÁ D.C. - TRANSMILENIO   \n",
      "1                    BOGOTÁ D.C. - IED. DIVINO MAESTRO   \n",
      "2      BOGOTÁ D.C. - IED. ITI FRANCISCO JOSE DE CALDAS   \n",
      "3    CAR - CORPORACIÓN AUTÓNOMA REGIONAL DE CUNDINA...   \n",
      "4     BOGOTÁ D.C. - COLEGIO MANUEL ZAPATA OLIVELLA IED   \n",
      "..                                                 ...   \n",
      "235    BOGOTÁ D.C. - IED. INEM FCO. DE PAULA SANTANDER   \n",
      "236   BOGOTÁ D.C. - IED. EL SALITRE SAN CARLOS DE SUBA   \n",
      "237                          BOGOTÁ D.C. - IED. ESPAÑA   \n",
      "238                          BOGOTÁ D.C. - IED. ESPAÑA   \n",
      "239                          BOGOTÁ D.C. - IED. ESPAÑA   \n",
      "\n",
      "                                              proyecto  \\\n",
      "0    AUNAR ESFUERZOS PARA EL MEJORAMIENTO, ADECUACI...   \n",
      "1    MANTENIMIENTO GENERAL DE LAS INSTALACIONES DEL...   \n",
      "2    Mantenimiento integral de cubiertas, canales y...   \n",
      "3    PRESTACIÓN DEL SERVICIO DE MANTENIMIENTO PREVE...   \n",
      "4    EL COLEGIO Manuel Zapata Olivella IED REQUIERE...   \n",
      "..                                                 ...   \n",
      "235  suministro y cambio de tejas arreglode filtrac...   \n",
      "236  TRABAJOS DE RESANE PARTE INTERNA Y PINTURA PAR...   \n",
      "237  CONTRATACIN TRABAJOS DE MANTENIMIENTO A TODO C...   \n",
      "238  Contrato a todo costo incluye mano de obra y m...   \n",
      "239  TRABAJOS VARIOS A TODO COSTO INCLUYE MANO DE O...   \n",
      "\n",
      "                    Unnamed: 7             valor  Unnamed: 9  \n",
      "0    Bogotá D.C. : Bogotá D.C.            $ 0,00  12/11/2021  \n",
      "1    Bogotá D.C. : Bogotá D.C.   $ 17.757.000,00  12/11/2021  \n",
      "2    Bogotá D.C. : Bogotá D.C.   $ 17.556.000,00   12-nov-21  \n",
      "3    Bogotá D.C. : Bogotá D.C.  $ 389.997.387,00  12/11/2021  \n",
      "4    Bogotá D.C. : Bogotá D.C.   $ 28.900.000,00  12/11/2021  \n",
      "..                         ...               ...         ...  \n",
      "235  Bogotá D.C. : Bogotá D.C.   $ 17.872.000,00  25/11/2021  \n",
      "236  Bogotá D.C. : Bogotá D.C.   $ 17.443.200,00  25/11/2021  \n",
      "237  Bogotá D.C. : Bogotá D.C.    $ 5.065.000,00  27/11/2021  \n",
      "238  Bogotá D.C. : Bogotá D.C.    $ 5.780.800,00  27/11/2021  \n",
      "239  Bogotá D.C. : Bogotá D.C.    $ 6.200.000,00  27/11/2021  \n",
      "\n",
      "[240 rows x 10 columns]\n"
     ]
    }
   ],
   "source": [
    "df=pd.read_csv(r'C:/Users/cast800390/Documents/IA_AP_202110/proyecto/secop/secop_train.csv', sep=';')\n",
    "print(df)"
   ]
  },
  {
   "cell_type": "code",
   "execution_count": 75,
   "id": "1fdb93bb-de7e-4777-875e-9cf84c01f268",
   "metadata": {},
   "outputs": [
    {
     "name": "stdout",
     "output_type": "stream",
     "text": [
      "[0, 0, 0, 0, 0, 0, 0, 0, 0, 0, 0, 0, 0, 0, 0, 0, 0, 0, 0, 0, 0, 0, 0, 0, 0, 0, 0, 0, 0, 0, 0, 0, 0, 0, 0, 0, 0, 0, 0, 0, 0, 0, 0, 0, 0, 0, 0, 0, 0, 0, 0, 0, 0, 0, 0, 0, 0, 0, 0, 0, 0, 0, 0, 0, 0, 0, 0, 0, 0, 0, 0, 0, 0, 0, 0, 0, 0, 0, 0, 0, 0, 0, 0, 0, 0, 0, 0, 0, 0, 0, 0, 0, 0, 0, 0, 0, 0, 0, 0, 0, 0, 0, 0, 0, 0, 0, 0, 0, 0, 0, 0, 0, 0, 0, 0, 0, 0, 0, 0, 0, 0, 0, 0, 0, 0, 0, 0, 0, 0, 0, 0, 0, 1, 1, 1, 1, 1, 1, 1, 1, 1, 1, 1, 1, 1, 1, 1, 2, 2, 2, 2, 2, 2, 2, 2, 2, 3, 3, 3, 3, 3, 3, 3, 3, 4, 4, 4, 4, 4, 4, 4, 4, 4, 5, 5, 5, 5, 5, 5, 6, 6, 6, 6, 6, 6, 6, 7, 7, 7, 7, 7, 7, 7, 7, 7, 7, 8, 8, 8, 8, 8, 8, 8, 8, 8, 8, 8, 8, 8, 8, 8, 8, 9, 9, 9, 9, 9, 9, 9, 9, 9, 9, 9, 9, 9, 9, 9, 9, 9, 9, 9, 9, 9, 9, 9, 9, 9, 9, 9, 9]\n"
     ]
    }
   ],
   "source": [
    "category_labels = list(df['categorical_label'])\n",
    "print(category_labels)"
   ]
  },
  {
   "cell_type": "code",
   "execution_count": 77,
   "id": "df03be47-7165-4f1c-88c6-c1ae6b8df081",
   "metadata": {},
   "outputs": [
    {
     "name": "stderr",
     "output_type": "stream",
     "text": [
      "C:\\Users\\cast800390\\Anaconda3\\lib\\site-packages\\seaborn\\_decorators.py:36: FutureWarning: Pass the following variables as keyword args: x, y. From version 0.12, the only valid positional argument will be `data`, and passing other arguments without an explicit keyword will result in an error or misinterpretation.\n",
      "  warnings.warn(\n"
     ]
    },
    {
     "data": {
      "image/png": "[encoded data removed]",
      "text/plain": [
       "<Figure size 720x432 with 1 Axes>"
      ]
     },
     "metadata": {
      "needs_background": "light"
     },
     "output_type": "display_data"
    }
   ],
   "source": [
    "import matplotlib.pyplot as plt\n",
    "import seaborn as sns\n",
    "\n",
    "\n",
    "\n",
    "fig = plt.figure(figsize=(10,6))\n",
    "sns.barplot(df['categorical_label'].value_counts().index, df['categorical_label'].value_counts())\n",
    "plt.xticks(rotation=20)\n",
    "plt.show()"
   ]
  },
  {
   "cell_type": "code",
   "execution_count": 98,
   "id": "d75a4426-c334-419c-8efd-e72c8b8a1b04",
   "metadata": {},
   "outputs": [],
   "source": [
    "category_labels = list(df['categorical_label'].value_counts().index)"
   ]
  },
  {
   "cell_type": "code",
   "execution_count": 100,
   "id": "271e040e-9bbf-441c-bf73-857b72a13c26",
   "metadata": {
    "tags": []
   },
   "outputs": [
    {
     "name": "stderr",
     "output_type": "stream",
     "text": [
      "[nltk_data] Downloading package stopwords to\n",
      "[nltk_data]     C:\\Users\\cast800390\\AppData\\Roaming\\nltk_data...\n",
      "[nltk_data]   Unzipping corpora\\stopwords.zip.\n"
     ]
    }
   ],
   "source": [
    "\n",
    "#from sklearn.feature_extraction.stop_words import ENGLISH_STOP_WORDS\n",
    "#from spacy.lang.en import English\n",
    "import nltk  #**20211210\n",
    "nltk.download('stopwords')  #**20211210\n",
    "from nltk.corpus import stopwords\n",
    "#from sklearn.feature_extraction.stop_words import SPANISH_STOP_WORDS #**\n",
    "import spacy\n",
    "#from spacy.lang.es #**\n",
    "import string\n",
    "from collections import Counter\n",
    "\n",
    "\n",
    "#parser = Spanish()\n",
    "nlp = spacy.load('es_core_news_md')\n",
    "punctuations = string.punctuation\n",
    "\n",
    "STOPLIST = set(stopwords.words('spanish'))# + list(SPANISH_STOP_WORDS))\n",
    "SYMBOLS = \" \".join(string.punctuation).split(\" \") + [\"'\",\":\",\";\",\"-\", \"…\",\"(\",\")\",\",\",\".\"]\n",
    "\n",
    "# preprocesado de cada texto-proyecto\n",
    "def cleanup_text(docs, logging=False):\n",
    "  texts = []\n",
    "  counter = 1\n",
    "  for doc in docs:\n",
    "    if counter % 1000 == 0 and logging:\n",
    "    \n",
    "      print(\"procesa %d desde %d proyectos.\" % (counter, len(docs)))\n",
    "      counter += 1\n",
    "      \n",
    "     # doc = nlp(doc, disable=['parser', 'ner']) // # tokens = [tok.lemma_.lower().strip() for tok in doc if tok.lemma_ != '-PRON-']  // # tokens = [tok for tok in tokens if tok not in STOPLIST and tok not in SYMBOLS]\n",
    "      tokens = [tok for tok in tokens if tok not in SYMBOLS]\n",
    "      tokens = ' '.join(tokens)\n",
    "      texts.append(tokens)\n",
    "      \n",
    "  return pd.Series(texts)\n",
    "\n",
    "#por cada categoría palabras comunes\n",
    "def find_common_words_by_category(categories, N):\n",
    "  for category in categories:\n",
    "\n",
    "    category_text = [proyecto for proyecto in df[df['categorical_label'] == category]['proyecto']]\n",
    "    cleanup_category_text = cleanup_text(category_text)\n",
    "    cleanup_category_text = ' '.join(cleanup_category_text).split()\n",
    "    category_counter = Counter(cleanup_category_text)\n",
    "\n",
    "    common_words_by_category = [word[0] for word in category_counter.most_common(N)]\n",
    "    word_count_by_category = [word[1] for word in category_counter.most_common(N)]\n",
    "    \n",
    "    word_statement = f\"{category} has {word_count_by_category} words : {common_words_by_category}\"\n",
    "  #return word_statement --no aplica return\n",
    "  print(word_statement) \n",
    "    "
   ]
  },
  {
   "cell_type": "code",
   "execution_count": null,
   "id": "c2fda0ce-fe7c-40bd-9c9e-48a385dc082d",
   "metadata": {},
   "outputs": [],
   "source": []
  },
  {
   "cell_type": "code",
   "execution_count": null,
   "id": "89674629-3b62-4925-9957-c1fea6409659",
   "metadata": {},
   "outputs": [],
   "source": []
  }
 ],
 "metadata": {
  "kernelspec": {
   "display_name": "Python 3",
   "language": "python",
   "name": "python3"
  },
  "language_info": {
   "codemirror_mode": {
    "name": "ipython",
    "version": 3
   },
   "file_extension": ".py",
   "mimetype": "text/x-python",
   "name": "python",
   "nbconvert_exporter": "python",
   "pygments_lexer": "ipython3",
   "version": "3.8.8"
  },
  "toc-autonumbering": false,
  "toc-showmarkdowntxt": false
 },
 "nbformat": 4,
 "nbformat_minor": 5
}
